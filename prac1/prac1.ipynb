{
 "cells": [
  {
   "cell_type": "code",
   "execution_count": 1,
   "metadata": {},
   "outputs": [],
   "source": [
    "import pandas as pd\n",
    "import numpy as np\n",
    "import matplotlib.pyplot as plt"
   ]
  },
  {
   "cell_type": "markdown",
   "metadata": {},
   "source": [
    "# Ejercicio 4. Estrellas\n"
   ]
  },
  {
   "cell_type": "markdown",
   "metadata": {},
   "source": [
    "## Inciso A"
   ]
  },
  {
   "cell_type": "code",
   "execution_count": 2,
   "metadata": {},
   "outputs": [
    {
     "data": {},
     "execution_count": 2,
     "metadata": {},
     "output_type": "execute_result"
    }
   ],
   "source": [
    "data = pd.read_csv(r'.\\estrellas.csv')\n",
    "data"
   ]
  },
  {
   "cell_type": "code",
   "execution_count": 3,
   "metadata": {},
   "outputs": [
    {
     "name": "stdout",
     "output_type": "stream",
     "text": []
    }
   ],
   "source": [
    "# ver rango de columna Edad\n",
    "print(data['Edad'].min())\n",
    "print(data['Edad'].max())\n",
    "print(data['Edad'].mean())\n",
    "print(data['Edad'].median()) "
   ]
  },
  {
   "cell_type": "code",
   "execution_count": 4,
   "metadata": {},
   "outputs": [],
   "source": [
    "data['Edad_bin'], bins = pd.qcut(data['Edad'], q=2, labels=['Baja', 'Alta'], retbins=True)"
   ]
  },
  {
   "cell_type": "code",
   "execution_count": 5,
   "metadata": {},
   "outputs": [
    {
     "data": {},
     "execution_count": 5,
     "metadata": {},
     "output_type": "execute_result"
    }
   ],
   "source": [
    "data"
   ]
  },
  {
   "cell_type": "code",
   "execution_count": 6,
   "metadata": {},
   "outputs": [
    {
     "name": "stdout",
     "output_type": "stream",
     "text": []
    }
   ],
   "source": [
    "print('Rangos de los intervalos: ', bins)\n",
    "conteo_intervalos = data['Edad_bin'].value_counts()\n",
    "print('Cantidad de ejemplos en cada intervalo:\\n', conteo_intervalos)"
   ]
  },
  {
   "cell_type": "markdown",
   "metadata": {},
   "source": [
    "# 5. Ejercicio Integrador: Ofertas de Trabajo "
   ]
  },
  {
   "cell_type": "code",
   "execution_count": 7,
   "metadata": {},
   "outputs": [
    {
     "data": {},
     "execution_count": 7,
     "metadata": {},
     "output_type": "execute_result"
    }
   ],
   "source": [
    "df = pd.read_excel(r'trabajos.xlsx')\n",
    "df"
   ]
  },
  {
   "cell_type": "markdown",
   "metadata": {},
   "source": [
    "## Inciso A"
   ]
  },
  {
   "cell_type": "code",
   "execution_count": 8,
   "metadata": {},
   "outputs": [
    {
     "data": {},
     "execution_count": 8,
     "metadata": {},
     "output_type": "execute_result"
    }
   ],
   "source": [
    "# Mostrar solo las columnas Job Title y Job Description\n",
    "df[['Job Title', 'Job Description']] "
   ]
  },
  {
   "cell_type": "markdown",
   "metadata": {},
   "source": [
    "## Inciso B"
   ]
  },
  {
   "cell_type": "code",
   "execution_count": 9,
   "metadata": {},
   "outputs": [
    {
     "data": {},
     "execution_count": 9,
     "metadata": {},
     "output_type": "execute_result"
    }
   ],
   "source": [
    "df.columns"
   ]
  },
  {
   "cell_type": "code",
   "execution_count": 10,
   "metadata": {},
   "outputs": [],
   "source": [
    "# Eliminar columnas index, Competitors, Company Name\n",
    "df = df.drop(['index', 'Competitors', 'Company Name'], axis=1)"
   ]
  },
  {
   "cell_type": "code",
   "execution_count": 11,
   "metadata": {},
   "outputs": [
    {
     "data": {},
     "execution_count": 11,
     "metadata": {},
     "output_type": "execute_result"
    }
   ],
   "source": [
    "df"
   ]
  },
  {
   "cell_type": "code",
   "execution_count": 12,
   "metadata": {},
   "outputs": [
    {
     "data": {},
     "execution_count": 12,
     "metadata": {},
     "output_type": "execute_result"
    }
   ],
   "source": [
    "df.describe()"
   ]
  },
  {
   "cell_type": "markdown",
   "metadata": {},
   "source": [
    "## Inciso C\n",
    "### a) Crear columna de sueldo minimo"
   ]
  },
  {
   "cell_type": "code",
   "execution_count": 13,
   "metadata": {},
   "outputs": [
    {
     "data": {},
     "execution_count": 13,
     "metadata": {},
     "output_type": "execute_result"
    }
   ],
   "source": [
    "# Crear columna de sueldo minimo y máximo\n",
    "df['Salary Estimate'].unique()\n"
   ]
  },
  {
   "cell_type": "code",
   "execution_count": 14,
   "metadata": {},
   "outputs": [],
   "source": [
    "# Eliminar el texto de la columna\n",
    "df['Salary Estimate'] = df['Salary Estimate'].str.replace(' (Glassdoor est.)', '')\n",
    "# Crear columna de sueldo minimo\n",
    "df['Salary Min'] = df['Salary Estimate'].str.split('-').str[0].str.replace('$', '').str.replace('K', '').astype('float')"
   ]
  },
  {
   "cell_type": "code",
   "execution_count": 15,
   "metadata": {},
   "outputs": [
    {
     "data": {},
     "execution_count": 15,
     "metadata": {},
     "output_type": "execute_result"
    }
   ],
   "source": [
    "df['Salary Min'].describe()\n",
    "#print(df['Salary Min'].value_counts())"
   ]
  },
  {
   "cell_type": "markdown",
   "metadata": {},
   "source": [
    "### b) Crear columna de sueldo maximo"
   ]
  },
  {
   "cell_type": "code",
   "execution_count": 16,
   "metadata": {},
   "outputs": [],
   "source": [
    "# Eliminar el texto de la columna\n",
    "df['Salary Estimate'] = df['Salary Estimate'].str.replace(' (Glassdoor est.)', '').str.replace('(Employer est.)', '')\n",
    "# Crear columna de sueldo maximo\n",
    "df['Salary Max'] = df['Salary Estimate'].str.split('-').str[1].str.replace('$', '').str.replace('K', '').astype('float')"
   ]
  },
  {
   "cell_type": "code",
   "execution_count": 17,
   "metadata": {},
   "outputs": [
    {
     "data": {},
     "execution_count": 17,
     "metadata": {},
     "output_type": "execute_result"
    }
   ],
   "source": [
    "df['Salary Max'].describe()"
   ]
  },
  {
   "cell_type": "markdown",
   "metadata": {},
   "source": [
    "### c) Crear columna de sueldo promedio"
   ]
  },
  {
   "cell_type": "code",
   "execution_count": 18,
   "metadata": {},
   "outputs": [
    {
     "data": {},
     "execution_count": 18,
     "metadata": {},
     "output_type": "execute_result"
    }
   ],
   "source": [
    "# Crear columna de salario promedio\n",
    "df['Salary Avg'] = (df['Salary Min'] + df['Salary Max']) / 2\n",
    "df"
   ]
  },
  {
   "cell_type": "code",
   "execution_count": 19,
   "metadata": {},
   "outputs": [],
   "source": [
    "df = df.drop(columns=['Salary Estimate'])"
   ]
  },
  {
   "cell_type": "markdown",
   "metadata": {},
   "source": [
    "### d) Crear columna de Ubicación \n",
    "Del trabajo, codificada como el código del estado de dos letras (por ej, NY o MA), sin la ciudad. \n",
    "Quitar el resto de los atributos de ubicación (Location y Headquarters)"
   ]
  },
  {
   "cell_type": "code",
   "execution_count": 20,
   "metadata": {},
   "outputs": [
    {
     "data": {},
     "execution_count": 20,
     "metadata": {},
     "output_type": "execute_result"
    }
   ],
   "source": [
    "df['Location'].unique()"
   ]
  },
  {
   "cell_type": "code",
   "execution_count": 21,
   "metadata": {},
   "outputs": [],
   "source": [
    "df['Ubicacion'] = df['Location'].apply(lambda x: x.split(',')[1].strip() if ',' in x else x)\n"
   ]
  },
  {
   "cell_type": "code",
   "execution_count": 22,
   "metadata": {},
   "outputs": [
    {
     "data": {},
     "execution_count": 22,
     "metadata": {},
     "output_type": "execute_result"
    }
   ],
   "source": [
    "df['Ubicacion'].unique()"
   ]
  },
  {
   "cell_type": "code",
   "execution_count": 23,
   "metadata": {},
   "outputs": [
    {
     "data": {},
     "execution_count": 23,
     "metadata": {},
     "output_type": "execute_result"
    }
   ],
   "source": [
    "# Cambiar los valores de Ubicacion de New Jersey a NJ, California a CA, Texas a TX, etc. Quedó medio manual pero no le encontré otra forma\n",
    "df['Ubicacion'] = df['Ubicacion'].replace({'New Jersey': 'NJ', 'California': 'CA', 'Texas': 'TX', 'United States': 'US', 'Utah': 'UT', \"Anne Arundel\": \"MD\"})  \n",
    "df['Ubicacion'].unique()"
   ]
  },
  {
   "cell_type": "code",
   "execution_count": 24,
   "metadata": {},
   "outputs": [],
   "source": [
    "df = df.drop(['Location'], axis=1)\n",
    "df = df.drop(['Headquarters'], axis=1)"
   ]
  },
  {
   "cell_type": "markdown",
   "metadata": {},
   "source": [
    "### e) Antigüedad de la empresa\n",
    "Codificada como número, en base a la Fecha de fundación. \n",
    "\n",
    "Quitar la fecha de fundación.\n"
   ]
  },
  {
   "cell_type": "code",
   "execution_count": 25,
   "metadata": {},
   "outputs": [],
   "source": [
    "# Columna de  Antiguedad de la empresa\n",
    "df['Antiguedad'] = (2025 - df['Founded']).astype('int')"
   ]
  },
  {
   "cell_type": "code",
   "execution_count": 26,
   "metadata": {},
   "outputs": [],
   "source": [
    "# Eliminar la fecha de fundacion\n",
    "df = df.drop(['Founded'], axis=1)"
   ]
  },
  {
   "cell_type": "code",
   "execution_count": 27,
   "metadata": {},
   "outputs": [
    {
     "data": {},
     "execution_count": 27,
     "metadata": {},
     "output_type": "execute_result"
    }
   ],
   "source": [
    "df"
   ]
  },
  {
   "cell_type": "markdown",
   "metadata": {},
   "source": [
    "### f) Senior: (binaria)\n",
    "Si el trabajo es para una persona con mucha experiencia (atributo binario)\n",
    "\n",
    "Nota: Para identificar si un trabajo es “Senior”, consultar si los atributos\n",
    "“Job Title” o “Job Description” contienen las palabras: “Senior”, “Sr”, “Sr.”,\n",
    "¿Qué otras palabras se te ocurren para mejorar este atributo?\n"
   ]
  },
  {
   "cell_type": "code",
   "execution_count": 28,
   "metadata": {},
   "outputs": [],
   "source": [
    "# Crear columna binaria (booleana?) de Seniority, segun si aparece la palabra Senior o Sr. en la columna Job Title y Job Description\n",
    "palabras_clave = 'Senior|Sr.|Sr|Lead|Expert|Principal|Director|Chief'\n",
    "df['Seniority'] = df['Job Title'].str.contains(palabras_clave)\n",
    "df['Seniority'] = df['Seniority'] | df['Job Description'].str.contains(palabras_clave)\n",
    "df['Seniority'] = df['Seniority'].astype('int') # No se si poner tipo booleano o entero\n",
    "\n",
    "# Hay varias palabras (como Expert / Lead / Principal, etc) que tambien podrian indicar Seniority"
   ]
  },
  {
   "cell_type": "code",
   "execution_count": 29,
   "metadata": {},
   "outputs": [
    {
     "data": {},
     "execution_count": 29,
     "metadata": {},
     "output_type": "execute_result"
    }
   ],
   "source": [
    "df"
   ]
  },
  {
   "cell_type": "markdown",
   "metadata": {},
   "source": [
    "### g) Junior: (binaria)\n",
    "si el trabajo es para una persona con poca experiencia (atributo binario).\n",
    "\n",
    "Nota: Para identificar si un trabajo es “Junior”, consultar si los atributos\n",
    "“Job Title” o “Job Description” contienen las palabras: “Junior” o “Jr”. ¿Qué\n",
    "otras palabras se te ocurren para mejorar este atributo"
   ]
  },
  {
   "cell_type": "code",
   "execution_count": 30,
   "metadata": {},
   "outputs": [],
   "source": [
    "# Crear columna Junior segun si aparece la palabra Junior o Jr. en la columna Job Title y Job Description\n",
    "palabras_clave = 'Junior|Jr.|Jr|Early|Entry|Beginner'\n",
    "df['Junior'] = df['Job Title'].str.contains(palabras_clave)\n",
    "df['Junior'] = df['Junior'] | df['Job Description'].str.contains(palabras_clave)\n",
    "df['Junior'] = df['Junior'].astype('int') # No se si poner tipo booleano o entero acá tmp"
   ]
  },
  {
   "cell_type": "code",
   "execution_count": 31,
   "metadata": {},
   "outputs": [
    {
     "data": {},
     "execution_count": 31,
     "metadata": {},
     "output_type": "execute_result"
    }
   ],
   "source": [
    "df"
   ]
  },
  {
   "cell_type": "markdown",
   "metadata": {},
   "source": [
    "Revisando, veo que varios que estan marcados como Junior, también están como Seniority. Algo está mal evidentemente (quizas haya q cambiar las palabras clave)"
   ]
  },
  {
   "cell_type": "markdown",
   "metadata": {},
   "source": [
    "### h) “Public” y “Private”\n",
    "Atributos binarios en base al atributo “Type of ownership”. \n",
    "Eliminar ese atributo"
   ]
  },
  {
   "cell_type": "code",
   "execution_count": 32,
   "metadata": {},
   "outputs": [
    {
     "data": {},
     "execution_count": 32,
     "metadata": {},
     "output_type": "execute_result"
    }
   ],
   "source": [
    "df['Type of ownership'].unique()"
   ]
  },
  {
   "cell_type": "code",
   "execution_count": 33,
   "metadata": {},
   "outputs": [
    {
     "name": "stdout",
     "output_type": "stream",
     "text": []
    }
   ],
   "source": [
    "# Rellenar NaN con una cadena vacía para evitar errores\n",
    "df['Type of ownership'] = df['Type of ownership'].fillna('')\n",
    "# Crear columna de si la empresa es privada o no segun si aparece la palabra Private en la columna Type of ownership\n",
    "df['Private'] = df['Type of ownership'].str.contains('Private|Self-employed').fillna(False).astype('int')\n",
    "df['Public'] = df['Type of ownership'].str.contains('Public|Government').fillna(False).astype('int')\n",
    "# Los demás no sé si cómo clasificarlos"
   ]
  },
  {
   "cell_type": "markdown",
   "metadata": {},
   "source": [
    "Faltaron clasificar algunos"
   ]
  },
  {
   "cell_type": "code",
   "execution_count": 34,
   "metadata": {},
   "outputs": [
    {
     "data": {},
     "execution_count": 34,
     "metadata": {},
     "output_type": "execute_result"
    }
   ],
   "source": [
    "df"
   ]
  },
  {
   "cell_type": "markdown",
   "metadata": {},
   "source": [
    "### i) “Estimated size” y “Estimated revenue” \n",
    "en base a “Size” y “Revenue”, pero los nuevos atributos deben ser numéricos, y deben corresponder al\n",
    "máximo de los valores que aparecen de forma textual en el atributo. \n",
    "\n",
    "Por ejemplo, si el valor textual es 100 to 500 million (USD), el valor numérico debería ser 500.000.000. \n",
    "En el caso de empresas que no tienen este valor, reemplazar por el promedio.\n"
   ]
  },
  {
   "cell_type": "code",
   "execution_count": 35,
   "metadata": {},
   "outputs": [],
   "source": [
    "# Nueva Columna Estimated Size (maximo que aparece en la columna Size que es de tipo texto)\n",
    "df['Size'].unique()\n",
    "# Supongamos que tu DataFrame se llama df y la columna es 'Size'\n",
    "def extract_max_size(size):\n",
    "    if isinstance(size, str) and 'to' in size:\n",
    "        # Dividir la cadena y seleccionar el tercer elemento\n",
    "        max_size = size.split()[2]\n",
    "        # Eliminar cualquier carácter no numérico\n",
    "        max_size = ''.join(filter(str.isdigit, max_size))\n",
    "        return int(max_size)\n",
    "    else:\n",
    "        # Si no hay 'to', verificar si contiene la palabra 'employees'\n",
    "        if isinstance(size, str) and 'employees' in size:\n",
    "            return 10000\n",
    "        else:\n",
    "            return 0\n",
    "\n",
    "# Aplicar la función a la columna 'Size' y crear la nueva columna 'Estimated Size'\n",
    "df['Estimated Size'] = df['Size'].apply(extract_max_size)"
   ]
  },
  {
   "cell_type": "code",
   "execution_count": 36,
   "metadata": {},
   "outputs": [],
   "source": [
    "# Calcular promedio de Estimated Size sin tener en cuenta los 0\n",
    "prom_size = round(df['Estimated Size'][df['Estimated Size'] != 0].mean(),0)\n",
    "# Rellenar los 0 con el promedio\n",
    "df['Estimated Size'] = df['Estimated Size'].replace(0, prom_size)"
   ]
  },
  {
   "cell_type": "code",
   "execution_count": 37,
   "metadata": {},
   "outputs": [
    {
     "data": {},
     "execution_count": 37,
     "metadata": {},
     "output_type": "execute_result"
    }
   ],
   "source": [
    "df['Revenue'].unique()"
   ]
  },
  {
   "cell_type": "code",
   "execution_count": 38,
   "metadata": {},
   "outputs": [],
   "source": [
    "def extract_max_rev(size):\n",
    "    if isinstance(size, str) and 'to' in size:\n",
    "        max_rev = size.split('to')[1]\n",
    "        # Eliminar cualquier caracter no numerico\n",
    "        max_rev = ''.join(filter(str.isdigit, max_rev))\n",
    "        # Si size contiene la palabra million, devolver el valor por e6, si contiene billion por e9\n",
    "        if 'million' in size:\n",
    "            return int(max_rev) * 10**6\n",
    "        elif 'billion' in size:\n",
    "            return int(max_rev) * 10**9\n",
    "        else:\n",
    "            return 'Problemas CHEQUEAR'\n",
    "        \n",
    "    elif isinstance(size, str) and '$' in size:\n",
    "        max_rev = size.split('$')[1]\n",
    "        # Eliminar cualquier caracter no numerico\n",
    "        max_rev = ''.join(filter(str.isdigit, max_rev))\n",
    "        # Si size contiene la palabra million, devolver el valor por e6, si contiene billion por e9\n",
    "        if 'million' in size:\n",
    "            return int(max_rev) * 10**6\n",
    "        elif 'billion' in size:\n",
    "            return int(max_rev) * 10**9\n",
    "        else:\n",
    "            return 'Problemas CHEQUEAR 2'\n",
    "    else:      \n",
    "        return 0\n",
    "\n",
    "\n",
    "# Crear la columna Estimated Revenue aplicando la funcion extract_max_rev\n",
    "df['Estimated Revenue'] = df['Revenue'].apply(extract_max_rev)\n",
    "\n",
    "\n"
   ]
  },
  {
   "cell_type": "code",
   "execution_count": 39,
   "metadata": {},
   "outputs": [],
   "source": [
    "# Calcular promedio de Estimated Revenue sin tener en cuenta los valores 0\n",
    "rev_prom = round(df['Estimated Revenue'][df['Estimated Revenue'] != 0].mean(), 0)\n",
    "# Reemplazar los valores 0 de Estimated Revenue con el promedio\n",
    "df['Estimated Revenue'] = df['Estimated Revenue'].replace(0, rev_prom)"
   ]
  },
  {
   "cell_type": "code",
   "execution_count": 40,
   "metadata": {},
   "outputs": [
    {
     "name": "stdout",
     "output_type": "stream",
     "text": []
    }
   ],
   "source": [
    "# Chequeo viendo la cantidad de desconocidos y 0:\n",
    "print(df['Revenue'].value_counts())\n",
    "print(df['Estimated Revenue'].value_counts())"
   ]
  },
  {
   "cell_type": "code",
   "execution_count": 41,
   "metadata": {},
   "outputs": [
    {
     "data": {},
     "execution_count": 41,
     "metadata": {},
     "output_type": "execute_result"
    }
   ],
   "source": [
    "df"
   ]
  },
  {
   "cell_type": "markdown",
   "metadata": {},
   "source": [
    "### j) 10 Atributos Binarios con Palabras Clave\n",
    "Los títulos de los trabajos contienen mucha variación y en algunos casos\n",
    "palabras que no contribuyen a la descripción o son muy específicas. Cree\n",
    "10 atributos binarios con las palabras o frases clave más comunes, como\n",
    "“Data”, “Engineer” o “Scientist”, y elimine el atributo “Job Title”."
   ]
  },
  {
   "cell_type": "code",
   "execution_count": 45,
   "metadata": {},
   "outputs": [
    {
     "name": "stdout",
     "output_type": "stream",
     "text": []
    }
   ],
   "source": [
    "# Crear una lista de palabras clave comunes\n",
    "keywords = ['Data', 'Engineer', 'Scientist', 'Analyst', 'Manager', \n",
    "            'Developer', 'Consultant', 'Architect', 'Specialist', 'Administrator']\n",
    "\n",
    "# Crear nuevas columnas binarias para cada palabra clave\n",
    "for keyword in keywords:\n",
    "    df[keyword] = df['Job Title'].str.contains(keyword, case=False, na=False).astype(int)\n",
    "\n",
    "# Eliminar la columna original 'Job Title'\n",
    "df = df.drop('Job Title', axis=1)\n",
    "\n",
    "# Mostrar las primeras filas del DataFrame para verificar\n",
    "print(df.head())"
   ]
  },
  {
   "cell_type": "markdown",
   "metadata": {},
   "source": [
    "### k) Las decripciones de los trabajos están en lenguaje natural y es dificl utilizarlas en un proceso de mineria.\n",
    "Identicar 10 habilidades muy ocurrentes que se mencionan en las descripciones y crear un atributor binario por cada una. "
   ]
  },
  {
   "cell_type": "code",
   "execution_count": 47,
   "metadata": {},
   "outputs": [
    {
     "name": "stdout",
     "output_type": "stream",
     "text": []
    }
   ],
   "source": [
    "# Lista de habilidades (?)\n",
    "skills = ['Python', 'SQL', 'Machine Learning', 'Deep Learning', 'Excel', \n",
    "          'Communication', 'Leadership', 'Cloud', 'Big Data', 'Statistics']\n",
    "\n",
    "# Crear nuevas columnas binarias para cada habilidad\n",
    "for skill in skills:\n",
    "    df[skill] = df['Job Description'].str.contains(skill, case=False, na=False).astype(int)\n",
    "\n",
    "# Mostrar las primeras filas del DataFrame para verificar\n",
    "print(df.head())"
   ]
  },
  {
   "cell_type": "markdown",
   "metadata": {},
   "source": [
    "### l) Convierta los valores del atributo \"Industry\" que tengan menos de 20 ocurrencias a \"Other\""
   ]
  },
  {
   "cell_type": "code",
   "execution_count": 49,
   "metadata": {},
   "outputs": [
    {
     "name": "stdout",
     "output_type": "stream",
     "text": []
    }
   ],
   "source": [
    "# Contar las ocurrencias de cada valor en la columna 'Industry'\n",
    "industry_counts = df['Industry'].value_counts()\n",
    "\n",
    "# Reemplazar los valores con menos de 20 ocurrencias por \"Other\"\n",
    "df['Industry'] = df['Industry'].apply(lambda x: 'Other' if industry_counts[x] < 20 or x == -1 else x)\n",
    "\n",
    "# Mostrar las primeras filas para verificar\n",
    "print(df['Industry'].value_counts())"
   ]
  },
  {
   "cell_type": "markdown",
   "metadata": {},
   "source": [
    "## D) Elimine los atributos \"'Job Title' y 'Job Description'\n",
    "'Job Title' ya lo eliminé antes"
   ]
  },
  {
   "cell_type": "code",
   "execution_count": 50,
   "metadata": {},
   "outputs": [],
   "source": [
    "df = df.drop('Job Description', axis=1)\n"
   ]
  },
  {
   "cell_type": "markdown",
   "metadata": {},
   "source": [
    "##  E) Elimine ejemplos con valores faltantes\n",
    "\n",
    "Ya los estuve cambiando por otros valores anteriormente, pero igual dejo el codigo escrito"
   ]
  },
  {
   "cell_type": "code",
   "execution_count": 51,
   "metadata": {},
   "outputs": [
    {
     "name": "stdout",
     "output_type": "stream",
     "text": []
    }
   ],
   "source": [
    "missing_values_count = df.isnull().sum().sum()\n",
    "print(f\"Cantidad de ejemplos con valores faltantes: {missing_values_count}\")"
   ]
  },
  {
   "cell_type": "code",
   "execution_count": 52,
   "metadata": {},
   "outputs": [],
   "source": [
    "# Eliminar ejemplos con valores faltantes\n",
    "df = df.dropna()"
   ]
  },
  {
   "cell_type": "markdown",
   "metadata": {},
   "source": [
    "## F) Elimine ejemplos duplicados"
   ]
  },
  {
   "cell_type": "code",
   "execution_count": 53,
   "metadata": {},
   "outputs": [
    {
     "name": "stdout",
     "output_type": "stream",
     "text": []
    }
   ],
   "source": [
    "cantidad_repetidos = df.duplicated().sum()\n",
    "print(f\"Cantidad de ejemplos repetidos: {cantidad_repetidos}\")"
   ]
  },
  {
   "cell_type": "code",
   "execution_count": 54,
   "metadata": {},
   "outputs": [
    {
     "name": "stdout",
     "output_type": "stream",
     "text": []
    }
   ],
   "source": [
    "\n",
    "# Eliminar ejemplos repetidos\n",
    "df = df.drop_duplicates()\n",
    "repetidos = df.duplicated().sum()\n",
    "print(f\"Cantidad de ejemplos repetidos luego de eliminar: {repetidos}\")"
   ]
  },
  {
   "cell_type": "markdown",
   "metadata": {},
   "source": [
    "## G ) Experimente y elija 3 graficos complementarios distintos\n",
    "que les parezca que puedan describir al conjunto de datos de foirma visual y resumida"
   ]
  },
  {
   "cell_type": "markdown",
   "metadata": {},
   "source": [
    "### Grafico de barras"
   ]
  },
  {
   "cell_type": "code",
   "execution_count": 55,
   "metadata": {},
   "outputs": [
    {
     "name": "stdout",
     "output_type": "stream",
     "text": []
    }
   ],
   "source": [
    "# Ejemplo: Distribución de la columna 'Industry'\n",
    "df['Industry'].value_counts().plot(kind='bar', figsize=(10, 6), color='skyblue')\n",
    "plt.title('Distribución de la Industria')\n",
    "plt.xlabel('Industria')\n",
    "plt.ylabel('Frecuencia')\n",
    "plt.xticks(rotation=45)\n",
    "plt.show()"
   ]
  },
  {
   "cell_type": "markdown",
   "metadata": {},
   "source": [
    "## Grafico de dispersión"
   ]
  },
  {
   "cell_type": "code",
   "execution_count": 64,
   "metadata": {},
   "outputs": [
    {
     "name": "stdout",
     "output_type": "stream",
     "text": []
    }
   ],
   "source": [
    "plt.figure(figsize=(10, 6))\n",
    "plt.scatter(df['Estimated Size'], df['Estimated Revenue'], alpha=0.7, color='green')\n",
    "\n",
    "plt.xlabel('Tamaño estimado')\n",
    "plt.ylabel('Salario estimado')\n",
    "plt.grid(True)\n",
    "plt.show()"
   ]
  },
  {
   "cell_type": "markdown",
   "metadata": {},
   "source": [
    "### Caja de Tukey"
   ]
  },
  {
   "cell_type": "code",
   "execution_count": 68,
   "metadata": {},
   "outputs": [
    {
     "name": "stdout",
     "output_type": "stream",
     "text": []
    }
   ],
   "source": [
    "# Calcular los límites de Tukey\n",
    "q1 = df['Antiguedad'].quantile(0.25)  # Primer cuartil\n",
    "q3 = df['Antiguedad'].quantile(0.75)  # Tercer cuartil\n",
    "iqr = q3 - q1  # Rango intercuartílico\n",
    "\n",
    "# Límites para los bigotes\n",
    "lower_bound = q1 - 1.5 * iqr\n",
    "upper_bound = q3 + 1.5 * iqr\n",
    "\n",
    "# Filtrar valores dentro de los límites\n",
    "filtered_data = df[(df['Antiguedad'] >= lower_bound) & (df['Antiguedad'] <= upper_bound)]\n",
    "\n",
    "# Crear el boxplot\n",
    "plt.figure(figsize=(10, 6))\n",
    "plt.boxplot(filtered_data['Antiguedad'], vert=False, patch_artist=True, boxprops=dict(facecolor='skyblue'))\n",
    "plt.title('Boxplot de Tukey para Antigüedad')\n",
    "plt.xlabel('Antigüedad')\n",
    "plt.show()"
   ]
  },
  {
   "cell_type": "markdown",
   "metadata": {},
   "source": [
    "Identifiqué un problema en la columna antiguedad, con algunos valores extremos mayores. Faltaria corregir eso."
   ]
  }
 ],
 "metadata": {
  "kernelspec": {
   "display_name": "Python 3",
   "language": "python",
   "name": "python3"
  },
  "language_info": {
   "codemirror_mode": {
    "name": "ipython",
    "version": 3
   },
   "file_extension": ".py",
   "mimetype": "text/x-python",
   "name": "python",
   "nbconvert_exporter": "python",
   "pygments_lexer": "ipython3",
   "version": "3.12.6"
  }
 },
 "nbformat": 4,
 "nbformat_minor": 2
}
