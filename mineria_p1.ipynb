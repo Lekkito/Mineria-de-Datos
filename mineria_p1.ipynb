{
 "cells": [
  {
   "cell_type": "code",
   "execution_count": 1,
   "metadata": {},
   "outputs": [],
   "source": [
    "import pandas as pd\n",
    "import numpy as np\n",
    "import matplotlib.pyplot as plt"
   ]
  },
  {
   "cell_type": "code",
   "execution_count": 3,
   "metadata": {},
   "outputs": [
    {
     "data": {
      "application/vnd.microsoft.datawrangler.viewer.v0+json": {
       "columns": [
        {
         "name": "index",
         "rawType": "int64",
         "type": "integer"
        },
        {
         "name": "Edad",
         "rawType": "int64",
         "type": "integer"
        },
        {
         "name": "Temperatura",
         "rawType": "int64",
         "type": "integer"
        },
        {
         "name": " clase ",
         "rawType": "int64",
         "type": "integer"
        }
       ],
       "conversionMethod": "pd.DataFrame",
       "ref": "7fdae51a-8ecc-49eb-96af-737f83d4979f",
       "rows": [
        [
         "0",
         "10",
         "6200",
         "0"
        ],
        [
         "1",
         "14",
         "3000",
         "0"
        ],
        [
         "2",
         "-155",
         "6600",
         "0"
        ],
        [
         "3",
         "-60",
         "3450",
         "0"
        ],
        [
         "4",
         "120",
         "6100",
         "0"
        ],
        [
         "5",
         "-300",
         "2500",
         "0"
        ],
        [
         "6",
         "16",
         "1400",
         "1"
        ],
        [
         "7",
         "-10",
         "2300",
         "1"
        ],
        [
         "8",
         "-32",
         "1900",
         "1"
        ],
        [
         "9",
         "2",
         "6600",
         "1"
        ],
        [
         "10",
         "-1",
         "3000",
         "1"
        ],
        [
         "11",
         "-7",
         "7500",
         "1"
        ],
        [
         "12",
         "-25",
         "1500",
         "1"
        ]
       ],
       "shape": {
        "columns": 3,
        "rows": 13
       }
      },
      "text/html": [
       "<div>\n",
       "<style scoped>\n",
       "    .dataframe tbody tr th:only-of-type {\n",
       "        vertical-align: middle;\n",
       "    }\n",
       "\n",
       "    .dataframe tbody tr th {\n",
       "        vertical-align: top;\n",
       "    }\n",
       "\n",
       "    .dataframe thead th {\n",
       "        text-align: right;\n",
       "    }\n",
       "</style>\n",
       "<table border=\"1\" class=\"dataframe\">\n",
       "  <thead>\n",
       "    <tr style=\"text-align: right;\">\n",
       "      <th></th>\n",
       "      <th>Edad</th>\n",
       "      <th>Temperatura</th>\n",
       "      <th>clase</th>\n",
       "    </tr>\n",
       "  </thead>\n",
       "  <tbody>\n",
       "    <tr>\n",
       "      <th>0</th>\n",
       "      <td>10</td>\n",
       "      <td>6200</td>\n",
       "      <td>0</td>\n",
       "    </tr>\n",
       "    <tr>\n",
       "      <th>1</th>\n",
       "      <td>14</td>\n",
       "      <td>3000</td>\n",
       "      <td>0</td>\n",
       "    </tr>\n",
       "    <tr>\n",
       "      <th>2</th>\n",
       "      <td>-155</td>\n",
       "      <td>6600</td>\n",
       "      <td>0</td>\n",
       "    </tr>\n",
       "    <tr>\n",
       "      <th>3</th>\n",
       "      <td>-60</td>\n",
       "      <td>3450</td>\n",
       "      <td>0</td>\n",
       "    </tr>\n",
       "    <tr>\n",
       "      <th>4</th>\n",
       "      <td>120</td>\n",
       "      <td>6100</td>\n",
       "      <td>0</td>\n",
       "    </tr>\n",
       "    <tr>\n",
       "      <th>5</th>\n",
       "      <td>-300</td>\n",
       "      <td>2500</td>\n",
       "      <td>0</td>\n",
       "    </tr>\n",
       "    <tr>\n",
       "      <th>6</th>\n",
       "      <td>16</td>\n",
       "      <td>1400</td>\n",
       "      <td>1</td>\n",
       "    </tr>\n",
       "    <tr>\n",
       "      <th>7</th>\n",
       "      <td>-10</td>\n",
       "      <td>2300</td>\n",
       "      <td>1</td>\n",
       "    </tr>\n",
       "    <tr>\n",
       "      <th>8</th>\n",
       "      <td>-32</td>\n",
       "      <td>1900</td>\n",
       "      <td>1</td>\n",
       "    </tr>\n",
       "    <tr>\n",
       "      <th>9</th>\n",
       "      <td>2</td>\n",
       "      <td>6600</td>\n",
       "      <td>1</td>\n",
       "    </tr>\n",
       "    <tr>\n",
       "      <th>10</th>\n",
       "      <td>-1</td>\n",
       "      <td>3000</td>\n",
       "      <td>1</td>\n",
       "    </tr>\n",
       "    <tr>\n",
       "      <th>11</th>\n",
       "      <td>-7</td>\n",
       "      <td>7500</td>\n",
       "      <td>1</td>\n",
       "    </tr>\n",
       "    <tr>\n",
       "      <th>12</th>\n",
       "      <td>-25</td>\n",
       "      <td>1500</td>\n",
       "      <td>1</td>\n",
       "    </tr>\n",
       "  </tbody>\n",
       "</table>\n",
       "</div>"
      ],
      "text/plain": [
       "    Edad  Temperatura   clase \n",
       "0     10         6200        0\n",
       "1     14         3000        0\n",
       "2   -155         6600        0\n",
       "3    -60         3450        0\n",
       "4    120         6100        0\n",
       "5   -300         2500        0\n",
       "6     16         1400        1\n",
       "7    -10         2300        1\n",
       "8    -32         1900        1\n",
       "9      2         6600        1\n",
       "10    -1         3000        1\n",
       "11    -7         7500        1\n",
       "12   -25         1500        1"
      ]
     },
     "execution_count": 3,
     "metadata": {},
     "output_type": "execute_result"
    }
   ],
   "source": [
    "data = pd.read_csv(r'C:\\Users\\nacho\\Documents\\Facultad\\Mineria de Datos\\Practica1\\estrellas2023.csv')\n",
    "data"
   ]
  },
  {
   "cell_type": "code",
   "execution_count": 4,
   "metadata": {},
   "outputs": [
    {
     "name": "stdout",
     "output_type": "stream",
     "text": [
      "-300\n",
      "120\n",
      "-32.92307692307692\n",
      "-7.0\n"
     ]
    }
   ],
   "source": [
    "# ver rango de columna Edad\n",
    "print(data['Edad'].min())\n",
    "print(data['Edad'].max())\n",
    "print(data['Edad'].mean())\n",
    "print(data['Edad'].median()) "
   ]
  },
  {
   "cell_type": "code",
   "execution_count": 5,
   "metadata": {},
   "outputs": [],
   "source": [
    "data['Edad_bin'], bins = pd.qcut(data['Edad'], q=2, labels=['Baja', 'Alta'], retbins=True)"
   ]
  },
  {
   "cell_type": "code",
   "execution_count": 6,
   "metadata": {},
   "outputs": [
    {
     "data": {
      "application/vnd.microsoft.datawrangler.viewer.v0+json": {
       "columns": [
        {
         "name": "index",
         "rawType": "int64",
         "type": "integer"
        },
        {
         "name": "Edad",
         "rawType": "int64",
         "type": "integer"
        },
        {
         "name": "Temperatura",
         "rawType": "int64",
         "type": "integer"
        },
        {
         "name": " clase ",
         "rawType": "int64",
         "type": "integer"
        },
        {
         "name": "Edad_bin",
         "rawType": "category",
         "type": "unknown"
        }
       ],
       "conversionMethod": "pd.DataFrame",
       "ref": "c06673b3-df11-44bd-90af-2de8e1f327c1",
       "rows": [
        [
         "0",
         "10",
         "6200",
         "0",
         "Alta"
        ],
        [
         "1",
         "14",
         "3000",
         "0",
         "Alta"
        ],
        [
         "2",
         "-155",
         "6600",
         "0",
         "Baja"
        ],
        [
         "3",
         "-60",
         "3450",
         "0",
         "Baja"
        ],
        [
         "4",
         "120",
         "6100",
         "0",
         "Alta"
        ],
        [
         "5",
         "-300",
         "2500",
         "0",
         "Baja"
        ],
        [
         "6",
         "16",
         "1400",
         "1",
         "Alta"
        ],
        [
         "7",
         "-10",
         "2300",
         "1",
         "Baja"
        ],
        [
         "8",
         "-32",
         "1900",
         "1",
         "Baja"
        ],
        [
         "9",
         "2",
         "6600",
         "1",
         "Alta"
        ],
        [
         "10",
         "-1",
         "3000",
         "1",
         "Alta"
        ],
        [
         "11",
         "-7",
         "7500",
         "1",
         "Baja"
        ],
        [
         "12",
         "-25",
         "1500",
         "1",
         "Baja"
        ]
       ],
       "shape": {
        "columns": 4,
        "rows": 13
       }
      },
      "text/html": [
       "<div>\n",
       "<style scoped>\n",
       "    .dataframe tbody tr th:only-of-type {\n",
       "        vertical-align: middle;\n",
       "    }\n",
       "\n",
       "    .dataframe tbody tr th {\n",
       "        vertical-align: top;\n",
       "    }\n",
       "\n",
       "    .dataframe thead th {\n",
       "        text-align: right;\n",
       "    }\n",
       "</style>\n",
       "<table border=\"1\" class=\"dataframe\">\n",
       "  <thead>\n",
       "    <tr style=\"text-align: right;\">\n",
       "      <th></th>\n",
       "      <th>Edad</th>\n",
       "      <th>Temperatura</th>\n",
       "      <th>clase</th>\n",
       "      <th>Edad_bin</th>\n",
       "    </tr>\n",
       "  </thead>\n",
       "  <tbody>\n",
       "    <tr>\n",
       "      <th>0</th>\n",
       "      <td>10</td>\n",
       "      <td>6200</td>\n",
       "      <td>0</td>\n",
       "      <td>Alta</td>\n",
       "    </tr>\n",
       "    <tr>\n",
       "      <th>1</th>\n",
       "      <td>14</td>\n",
       "      <td>3000</td>\n",
       "      <td>0</td>\n",
       "      <td>Alta</td>\n",
       "    </tr>\n",
       "    <tr>\n",
       "      <th>2</th>\n",
       "      <td>-155</td>\n",
       "      <td>6600</td>\n",
       "      <td>0</td>\n",
       "      <td>Baja</td>\n",
       "    </tr>\n",
       "    <tr>\n",
       "      <th>3</th>\n",
       "      <td>-60</td>\n",
       "      <td>3450</td>\n",
       "      <td>0</td>\n",
       "      <td>Baja</td>\n",
       "    </tr>\n",
       "    <tr>\n",
       "      <th>4</th>\n",
       "      <td>120</td>\n",
       "      <td>6100</td>\n",
       "      <td>0</td>\n",
       "      <td>Alta</td>\n",
       "    </tr>\n",
       "    <tr>\n",
       "      <th>5</th>\n",
       "      <td>-300</td>\n",
       "      <td>2500</td>\n",
       "      <td>0</td>\n",
       "      <td>Baja</td>\n",
       "    </tr>\n",
       "    <tr>\n",
       "      <th>6</th>\n",
       "      <td>16</td>\n",
       "      <td>1400</td>\n",
       "      <td>1</td>\n",
       "      <td>Alta</td>\n",
       "    </tr>\n",
       "    <tr>\n",
       "      <th>7</th>\n",
       "      <td>-10</td>\n",
       "      <td>2300</td>\n",
       "      <td>1</td>\n",
       "      <td>Baja</td>\n",
       "    </tr>\n",
       "    <tr>\n",
       "      <th>8</th>\n",
       "      <td>-32</td>\n",
       "      <td>1900</td>\n",
       "      <td>1</td>\n",
       "      <td>Baja</td>\n",
       "    </tr>\n",
       "    <tr>\n",
       "      <th>9</th>\n",
       "      <td>2</td>\n",
       "      <td>6600</td>\n",
       "      <td>1</td>\n",
       "      <td>Alta</td>\n",
       "    </tr>\n",
       "    <tr>\n",
       "      <th>10</th>\n",
       "      <td>-1</td>\n",
       "      <td>3000</td>\n",
       "      <td>1</td>\n",
       "      <td>Alta</td>\n",
       "    </tr>\n",
       "    <tr>\n",
       "      <th>11</th>\n",
       "      <td>-7</td>\n",
       "      <td>7500</td>\n",
       "      <td>1</td>\n",
       "      <td>Baja</td>\n",
       "    </tr>\n",
       "    <tr>\n",
       "      <th>12</th>\n",
       "      <td>-25</td>\n",
       "      <td>1500</td>\n",
       "      <td>1</td>\n",
       "      <td>Baja</td>\n",
       "    </tr>\n",
       "  </tbody>\n",
       "</table>\n",
       "</div>"
      ],
      "text/plain": [
       "    Edad  Temperatura   clase  Edad_bin\n",
       "0     10         6200        0     Alta\n",
       "1     14         3000        0     Alta\n",
       "2   -155         6600        0     Baja\n",
       "3    -60         3450        0     Baja\n",
       "4    120         6100        0     Alta\n",
       "5   -300         2500        0     Baja\n",
       "6     16         1400        1     Alta\n",
       "7    -10         2300        1     Baja\n",
       "8    -32         1900        1     Baja\n",
       "9      2         6600        1     Alta\n",
       "10    -1         3000        1     Alta\n",
       "11    -7         7500        1     Baja\n",
       "12   -25         1500        1     Baja"
      ]
     },
     "execution_count": 6,
     "metadata": {},
     "output_type": "execute_result"
    }
   ],
   "source": [
    "data"
   ]
  },
  {
   "cell_type": "code",
   "execution_count": 7,
   "metadata": {},
   "outputs": [
    {
     "name": "stdout",
     "output_type": "stream",
     "text": [
      "Rangos de los intervalos:  [-300.   -7.  120.]\n",
      "Cantidad de ejemplos en cada intervalo:\n",
      " Edad_bin\n",
      "Baja    7\n",
      "Alta    6\n",
      "Name: count, dtype: int64\n"
     ]
    }
   ],
   "source": [
    "print('Rangos de los intervalos: ', bins)\n",
    "conteo_intervalos = data['Edad_bin'].value_counts()\n",
    "print('Cantidad de ejemplos en cada intervalo:\\n', conteo_intervalos)"
   ]
  },
  {
   "cell_type": "code",
   "execution_count": null,
   "metadata": {},
   "outputs": [],
   "source": []
  }
 ],
 "metadata": {
  "kernelspec": {
   "display_name": "Python 3",
   "language": "python",
   "name": "python3"
  },
  "language_info": {
   "codemirror_mode": {
    "name": "ipython",
    "version": 3
   },
   "file_extension": ".py",
   "mimetype": "text/x-python",
   "name": "python",
   "nbconvert_exporter": "python",
   "pygments_lexer": "ipython3",
   "version": "3.11.9"
  }
 },
 "nbformat": 4,
 "nbformat_minor": 2
}
