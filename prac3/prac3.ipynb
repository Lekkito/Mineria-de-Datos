{
 "cells": [
  {
   "cell_type": "code",
   "execution_count": 14,
   "metadata": {},
   "outputs": [],
   "source": [
    "import matplotlib.pyplot as plt\n",
    "import numpy as np\n",
    "import pandas as pd\n",
    "from sklearn.model_selection import train_test_split\n",
    "from sklearn.naive_bayes import GaussianNB"
   ]
  },
  {
   "cell_type": "markdown",
   "metadata": {},
   "source": [
    "# Teoria"
   ]
  },
  {
   "cell_type": "markdown",
   "metadata": {},
   "source": [
    "## Lentes Bayes"
   ]
  },
  {
   "cell_type": "code",
   "execution_count": 11,
   "metadata": {},
   "outputs": [],
   "source": [
    "df = pd.read_excel('LentesBayes.xlsx')"
   ]
  },
  {
   "cell_type": "code",
   "execution_count": 4,
   "metadata": {},
   "outputs": [
    {
     "name": "stdout",
     "output_type": "stream",
     "text": [
      "<class 'pandas.core.frame.DataFrame'>\n",
      "RangeIndex: 24 entries, 0 to 23\n",
      "Data columns (total 6 columns):\n",
      " #   Column        Non-Null Count  Dtype \n",
      "---  ------        --------------  ----- \n",
      " 0   Id            24 non-null     int64 \n",
      " 1   Edad          24 non-null     object\n",
      " 2   Prescripcion  24 non-null     object\n",
      " 3   Astigmatismo  24 non-null     object\n",
      " 4   Lagrimas      24 non-null     object\n",
      " 5   Diagnostico   24 non-null     object\n",
      "dtypes: int64(1), object(5)\n",
      "memory usage: 1.3+ KB\n"
     ]
    }
   ],
   "source": [
    "df.info()"
   ]
  },
  {
   "cell_type": "code",
   "execution_count": 6,
   "metadata": {},
   "outputs": [
    {
     "data": {
      "application/vnd.microsoft.datawrangler.viewer.v0+json": {
       "columns": [
        {
         "name": "index",
         "rawType": "int64",
         "type": "integer"
        },
        {
         "name": "Id",
         "rawType": "int64",
         "type": "integer"
        },
        {
         "name": "Edad",
         "rawType": "object",
         "type": "string"
        },
        {
         "name": "Prescripcion",
         "rawType": "object",
         "type": "string"
        },
        {
         "name": "Astigmatismo",
         "rawType": "object",
         "type": "string"
        },
        {
         "name": "Lagrimas",
         "rawType": "object",
         "type": "string"
        },
        {
         "name": "Diagnostico",
         "rawType": "object",
         "type": "string"
        }
       ],
       "conversionMethod": "pd.DataFrame",
       "ref": "e12f2d72-4a06-4728-83eb-159726f06520",
       "rows": [
        [
         "0",
         "1",
         "Joven",
         "Hipermetropía",
         "NO",
         "Normal",
         "Lentes_Blandos"
        ],
        [
         "1",
         "2",
         "Joven",
         "Miopía",
         "NO",
         "Normal",
         "Lentes_Blandos"
        ],
        [
         "2",
         "9",
         "pre_presb",
         "Hipermetropía",
         "NO",
         "Normal",
         "Lentes_Blandos"
        ],
        [
         "3",
         "11",
         "pre_presb",
         "Miopía",
         "NO",
         "Normal",
         "Lentes_Blandos"
        ],
        [
         "4",
         "18",
         "Presbicia",
         "Hipermetropía",
         "NO",
         "Normal",
         "Lentes_Blandos"
        ],
        [
         "5",
         "3",
         "Joven",
         "Hipermetropía",
         "SI",
         "Normal",
         "Lentes_Duros"
        ],
        [
         "6",
         "4",
         "Joven",
         "Miopía",
         "SI",
         "Normal",
         "Lentes_Duros"
        ],
        [
         "7",
         "10",
         "pre_presb",
         "Miopía",
         "SI",
         "Normal",
         "Lentes_Duros"
        ],
        [
         "8",
         "17",
         "Presbicia",
         "Miopía",
         "SI",
         "Normal",
         "Lentes_Duros"
        ],
        [
         "9",
         "5",
         "Joven",
         "Hipermetropía",
         "NO",
         "Reducida",
         "No_usar_Lentes"
        ],
        [
         "10",
         "6",
         "Joven",
         "Hipermetropía",
         "SI",
         "Reducida",
         "No_usar_Lentes"
        ],
        [
         "11",
         "7",
         "Joven",
         "Miopía",
         "NO",
         "Reducida",
         "No_usar_Lentes"
        ],
        [
         "12",
         "8",
         "Joven",
         "Miopía",
         "SI",
         "Reducida",
         "No_usar_Lentes"
        ],
        [
         "13",
         "12",
         "pre_presb",
         "Hipermetropía",
         "SI",
         "Reducida",
         "No_usar_Lentes"
        ],
        [
         "14",
         "13",
         "pre_presb",
         "Hipermetropía",
         "NO",
         "Reducida",
         "No_usar_Lentes"
        ],
        [
         "15",
         "14",
         "pre_presb",
         "Hipermetropía",
         "SI",
         "Normal",
         "No_usar_Lentes"
        ],
        [
         "16",
         "15",
         "pre_presb",
         "Miopía",
         "NO",
         "Reducida",
         "No_usar_Lentes"
        ],
        [
         "17",
         "16",
         "pre_presb",
         "Miopía",
         "SI",
         "Reducida",
         "No_usar_Lentes"
        ],
        [
         "18",
         "19",
         "Presbicia",
         "Hipermetropía",
         "NO",
         "Reducida",
         "No_usar_Lentes"
        ],
        [
         "19",
         "20",
         "Presbicia",
         "Hipermetropía",
         "SI",
         "Reducida",
         "No_usar_Lentes"
        ],
        [
         "20",
         "21",
         "Presbicia",
         "Hipermetropía",
         "SI",
         "Normal",
         "No_usar_Lentes"
        ],
        [
         "21",
         "22",
         "Presbicia",
         "Miopía",
         "NO",
         "Reducida",
         "No_usar_Lentes"
        ],
        [
         "22",
         "23",
         "Presbicia",
         "Miopía",
         "NO",
         "Normal",
         "No_usar_Lentes"
        ],
        [
         "23",
         "24",
         "Presbicia",
         "Miopía",
         "SI",
         "Reducida",
         "No_usar_Lentes"
        ]
       ],
       "shape": {
        "columns": 6,
        "rows": 24
       }
      },
      "text/html": [
       "<div>\n",
       "<style scoped>\n",
       "    .dataframe tbody tr th:only-of-type {\n",
       "        vertical-align: middle;\n",
       "    }\n",
       "\n",
       "    .dataframe tbody tr th {\n",
       "        vertical-align: top;\n",
       "    }\n",
       "\n",
       "    .dataframe thead th {\n",
       "        text-align: right;\n",
       "    }\n",
       "</style>\n",
       "<table border=\"1\" class=\"dataframe\">\n",
       "  <thead>\n",
       "    <tr style=\"text-align: right;\">\n",
       "      <th></th>\n",
       "      <th>Id</th>\n",
       "      <th>Edad</th>\n",
       "      <th>Prescripcion</th>\n",
       "      <th>Astigmatismo</th>\n",
       "      <th>Lagrimas</th>\n",
       "      <th>Diagnostico</th>\n",
       "    </tr>\n",
       "  </thead>\n",
       "  <tbody>\n",
       "    <tr>\n",
       "      <th>0</th>\n",
       "      <td>1</td>\n",
       "      <td>Joven</td>\n",
       "      <td>Hipermetropía</td>\n",
       "      <td>NO</td>\n",
       "      <td>Normal</td>\n",
       "      <td>Lentes_Blandos</td>\n",
       "    </tr>\n",
       "    <tr>\n",
       "      <th>1</th>\n",
       "      <td>2</td>\n",
       "      <td>Joven</td>\n",
       "      <td>Miopía</td>\n",
       "      <td>NO</td>\n",
       "      <td>Normal</td>\n",
       "      <td>Lentes_Blandos</td>\n",
       "    </tr>\n",
       "    <tr>\n",
       "      <th>2</th>\n",
       "      <td>9</td>\n",
       "      <td>pre_presb</td>\n",
       "      <td>Hipermetropía</td>\n",
       "      <td>NO</td>\n",
       "      <td>Normal</td>\n",
       "      <td>Lentes_Blandos</td>\n",
       "    </tr>\n",
       "    <tr>\n",
       "      <th>3</th>\n",
       "      <td>11</td>\n",
       "      <td>pre_presb</td>\n",
       "      <td>Miopía</td>\n",
       "      <td>NO</td>\n",
       "      <td>Normal</td>\n",
       "      <td>Lentes_Blandos</td>\n",
       "    </tr>\n",
       "    <tr>\n",
       "      <th>4</th>\n",
       "      <td>18</td>\n",
       "      <td>Presbicia</td>\n",
       "      <td>Hipermetropía</td>\n",
       "      <td>NO</td>\n",
       "      <td>Normal</td>\n",
       "      <td>Lentes_Blandos</td>\n",
       "    </tr>\n",
       "    <tr>\n",
       "      <th>5</th>\n",
       "      <td>3</td>\n",
       "      <td>Joven</td>\n",
       "      <td>Hipermetropía</td>\n",
       "      <td>SI</td>\n",
       "      <td>Normal</td>\n",
       "      <td>Lentes_Duros</td>\n",
       "    </tr>\n",
       "    <tr>\n",
       "      <th>6</th>\n",
       "      <td>4</td>\n",
       "      <td>Joven</td>\n",
       "      <td>Miopía</td>\n",
       "      <td>SI</td>\n",
       "      <td>Normal</td>\n",
       "      <td>Lentes_Duros</td>\n",
       "    </tr>\n",
       "    <tr>\n",
       "      <th>7</th>\n",
       "      <td>10</td>\n",
       "      <td>pre_presb</td>\n",
       "      <td>Miopía</td>\n",
       "      <td>SI</td>\n",
       "      <td>Normal</td>\n",
       "      <td>Lentes_Duros</td>\n",
       "    </tr>\n",
       "    <tr>\n",
       "      <th>8</th>\n",
       "      <td>17</td>\n",
       "      <td>Presbicia</td>\n",
       "      <td>Miopía</td>\n",
       "      <td>SI</td>\n",
       "      <td>Normal</td>\n",
       "      <td>Lentes_Duros</td>\n",
       "    </tr>\n",
       "    <tr>\n",
       "      <th>9</th>\n",
       "      <td>5</td>\n",
       "      <td>Joven</td>\n",
       "      <td>Hipermetropía</td>\n",
       "      <td>NO</td>\n",
       "      <td>Reducida</td>\n",
       "      <td>No_usar_Lentes</td>\n",
       "    </tr>\n",
       "    <tr>\n",
       "      <th>10</th>\n",
       "      <td>6</td>\n",
       "      <td>Joven</td>\n",
       "      <td>Hipermetropía</td>\n",
       "      <td>SI</td>\n",
       "      <td>Reducida</td>\n",
       "      <td>No_usar_Lentes</td>\n",
       "    </tr>\n",
       "    <tr>\n",
       "      <th>11</th>\n",
       "      <td>7</td>\n",
       "      <td>Joven</td>\n",
       "      <td>Miopía</td>\n",
       "      <td>NO</td>\n",
       "      <td>Reducida</td>\n",
       "      <td>No_usar_Lentes</td>\n",
       "    </tr>\n",
       "    <tr>\n",
       "      <th>12</th>\n",
       "      <td>8</td>\n",
       "      <td>Joven</td>\n",
       "      <td>Miopía</td>\n",
       "      <td>SI</td>\n",
       "      <td>Reducida</td>\n",
       "      <td>No_usar_Lentes</td>\n",
       "    </tr>\n",
       "    <tr>\n",
       "      <th>13</th>\n",
       "      <td>12</td>\n",
       "      <td>pre_presb</td>\n",
       "      <td>Hipermetropía</td>\n",
       "      <td>SI</td>\n",
       "      <td>Reducida</td>\n",
       "      <td>No_usar_Lentes</td>\n",
       "    </tr>\n",
       "    <tr>\n",
       "      <th>14</th>\n",
       "      <td>13</td>\n",
       "      <td>pre_presb</td>\n",
       "      <td>Hipermetropía</td>\n",
       "      <td>NO</td>\n",
       "      <td>Reducida</td>\n",
       "      <td>No_usar_Lentes</td>\n",
       "    </tr>\n",
       "    <tr>\n",
       "      <th>15</th>\n",
       "      <td>14</td>\n",
       "      <td>pre_presb</td>\n",
       "      <td>Hipermetropía</td>\n",
       "      <td>SI</td>\n",
       "      <td>Normal</td>\n",
       "      <td>No_usar_Lentes</td>\n",
       "    </tr>\n",
       "    <tr>\n",
       "      <th>16</th>\n",
       "      <td>15</td>\n",
       "      <td>pre_presb</td>\n",
       "      <td>Miopía</td>\n",
       "      <td>NO</td>\n",
       "      <td>Reducida</td>\n",
       "      <td>No_usar_Lentes</td>\n",
       "    </tr>\n",
       "    <tr>\n",
       "      <th>17</th>\n",
       "      <td>16</td>\n",
       "      <td>pre_presb</td>\n",
       "      <td>Miopía</td>\n",
       "      <td>SI</td>\n",
       "      <td>Reducida</td>\n",
       "      <td>No_usar_Lentes</td>\n",
       "    </tr>\n",
       "    <tr>\n",
       "      <th>18</th>\n",
       "      <td>19</td>\n",
       "      <td>Presbicia</td>\n",
       "      <td>Hipermetropía</td>\n",
       "      <td>NO</td>\n",
       "      <td>Reducida</td>\n",
       "      <td>No_usar_Lentes</td>\n",
       "    </tr>\n",
       "    <tr>\n",
       "      <th>19</th>\n",
       "      <td>20</td>\n",
       "      <td>Presbicia</td>\n",
       "      <td>Hipermetropía</td>\n",
       "      <td>SI</td>\n",
       "      <td>Reducida</td>\n",
       "      <td>No_usar_Lentes</td>\n",
       "    </tr>\n",
       "    <tr>\n",
       "      <th>20</th>\n",
       "      <td>21</td>\n",
       "      <td>Presbicia</td>\n",
       "      <td>Hipermetropía</td>\n",
       "      <td>SI</td>\n",
       "      <td>Normal</td>\n",
       "      <td>No_usar_Lentes</td>\n",
       "    </tr>\n",
       "    <tr>\n",
       "      <th>21</th>\n",
       "      <td>22</td>\n",
       "      <td>Presbicia</td>\n",
       "      <td>Miopía</td>\n",
       "      <td>NO</td>\n",
       "      <td>Reducida</td>\n",
       "      <td>No_usar_Lentes</td>\n",
       "    </tr>\n",
       "    <tr>\n",
       "      <th>22</th>\n",
       "      <td>23</td>\n",
       "      <td>Presbicia</td>\n",
       "      <td>Miopía</td>\n",
       "      <td>NO</td>\n",
       "      <td>Normal</td>\n",
       "      <td>No_usar_Lentes</td>\n",
       "    </tr>\n",
       "    <tr>\n",
       "      <th>23</th>\n",
       "      <td>24</td>\n",
       "      <td>Presbicia</td>\n",
       "      <td>Miopía</td>\n",
       "      <td>SI</td>\n",
       "      <td>Reducida</td>\n",
       "      <td>No_usar_Lentes</td>\n",
       "    </tr>\n",
       "  </tbody>\n",
       "</table>\n",
       "</div>"
      ],
      "text/plain": [
       "    Id       Edad   Prescripcion Astigmatismo  Lagrimas     Diagnostico\n",
       "0    1      Joven  Hipermetropía           NO    Normal  Lentes_Blandos\n",
       "1    2      Joven         Miopía           NO    Normal  Lentes_Blandos\n",
       "2    9  pre_presb  Hipermetropía           NO    Normal  Lentes_Blandos\n",
       "3   11  pre_presb         Miopía           NO    Normal  Lentes_Blandos\n",
       "4   18  Presbicia  Hipermetropía           NO    Normal  Lentes_Blandos\n",
       "5    3      Joven  Hipermetropía           SI    Normal    Lentes_Duros\n",
       "6    4      Joven         Miopía           SI    Normal    Lentes_Duros\n",
       "7   10  pre_presb         Miopía           SI    Normal    Lentes_Duros\n",
       "8   17  Presbicia         Miopía           SI    Normal    Lentes_Duros\n",
       "9    5      Joven  Hipermetropía           NO  Reducida  No_usar_Lentes\n",
       "10   6      Joven  Hipermetropía           SI  Reducida  No_usar_Lentes\n",
       "11   7      Joven         Miopía           NO  Reducida  No_usar_Lentes\n",
       "12   8      Joven         Miopía           SI  Reducida  No_usar_Lentes\n",
       "13  12  pre_presb  Hipermetropía           SI  Reducida  No_usar_Lentes\n",
       "14  13  pre_presb  Hipermetropía           NO  Reducida  No_usar_Lentes\n",
       "15  14  pre_presb  Hipermetropía           SI    Normal  No_usar_Lentes\n",
       "16  15  pre_presb         Miopía           NO  Reducida  No_usar_Lentes\n",
       "17  16  pre_presb         Miopía           SI  Reducida  No_usar_Lentes\n",
       "18  19  Presbicia  Hipermetropía           NO  Reducida  No_usar_Lentes\n",
       "19  20  Presbicia  Hipermetropía           SI  Reducida  No_usar_Lentes\n",
       "20  21  Presbicia  Hipermetropía           SI    Normal  No_usar_Lentes\n",
       "21  22  Presbicia         Miopía           NO  Reducida  No_usar_Lentes\n",
       "22  23  Presbicia         Miopía           NO    Normal  No_usar_Lentes\n",
       "23  24  Presbicia         Miopía           SI  Reducida  No_usar_Lentes"
      ]
     },
     "execution_count": 6,
     "metadata": {},
     "output_type": "execute_result"
    }
   ],
   "source": [
    "df"
   ]
  },
  {
   "cell_type": "code",
   "execution_count": 12,
   "metadata": {},
   "outputs": [],
   "source": [
    "df = df.drop(columns='Id')\n",
    "df['Astigmatismo'] = df['Astigmatismo'].map({'SI': 1, 'NO': 0})\n",
    "df['Edad'] = df['Edad'].map({'Joven':0, 'pre_presb':1, 'Presbicia':2})\n",
    "df['Lagrimas'] = df['Lagrimas'].map({'Normal':0, 'Reducida':1})\n",
    "df['Diagnostico'] = df['Diagnostico'].map({'No_usar_Lentes':0, 'Lentes_Blandos':1, 'Lentes_Duros':2})\n",
    "df['Prescripcion'] = df['Prescripcion'].map({'Miopía':0, 'Hipermetropía':1})"
   ]
  },
  {
   "cell_type": "code",
   "execution_count": 15,
   "metadata": {},
   "outputs": [
    {
     "name": "stdout",
     "output_type": "stream",
     "text": [
      "Number of mislabeled points out of a total 12 points : 2\n"
     ]
    }
   ],
   "source": [
    "y = df['Diagnostico']\n",
    "X = df.drop(columns='Diagnostico')\n",
    "X_train, X_test, y_train, y_test = train_test_split(X, y, test_size=0.5, random_state=0)\n",
    "gnb = GaussianNB()\n",
    "y_pred = gnb.fit(X_train, y_train).predict(X_test)\n",
    "print(\"Number of mislabeled points out of a total %d points : %d\"\n",
    "      % (X_test.shape[0], (y_test != y_pred).sum()))"
   ]
  },
  {
   "cell_type": "code",
   "execution_count": 16,
   "metadata": {},
   "outputs": [
    {
     "data": {
      "image/png": "[encoded data removed]",
      "text/plain": [
       "<Figure size 1000x700 with 2 Axes>"
      ]
     },
     "metadata": {},
     "output_type": "display_data"
    }
   ],
   "source": [
    "# Visualize the data y print matrix confussion y acurracy score\n",
    "from sklearn.metrics import confusion_matrix\n",
    "import seaborn as sns\n",
    "cm = confusion_matrix(y_test, y_pred)\n",
    "plt.figure(figsize=(10,7))\n",
    "sns.heatmap(cm, annot=True, fmt='d', cmap='Blues')\n",
    "plt.title('Confusion Matrix')\n",
    "plt.xlabel('Predicted')\n",
    "plt.ylabel('True')\n",
    "plt.show()"
   ]
  },
  {
   "cell_type": "code",
   "execution_count": 19,
   "metadata": {},
   "outputs": [
    {
     "name": "stdout",
     "output_type": "stream",
     "text": [
      "F1 Score: 0.85\n",
      "Accuracy: 0.83\n"
     ]
    }
   ],
   "source": [
    "# Calculate accuracy\n",
    "from sklearn.metrics import accuracy_score, f1_score\n",
    "accuracy = accuracy_score(y_test, y_pred)\n",
    "f1 = f1_score(y_test, y_pred, average='weighted')\n",
    "print(f'F1 Score: {f1:.2f}')\n",
    "print(f'Accuracy: {accuracy:.2f}')"
   ]
  },
  {
   "cell_type": "markdown",
   "metadata": {},
   "source": [
    "### Petalos"
   ]
  },
  {
   "cell_type": "code",
   "execution_count": 21,
   "metadata": {},
   "outputs": [],
   "source": [
    "df2 = pd.read_csv(r'C:\\Users\\nacho\\Documents\\Facultad\\Mineria de Datos\\Datos\\iris.csv')"
   ]
  },
  {
   "cell_type": "code",
   "execution_count": 23,
   "metadata": {},
   "outputs": [
    {
     "data": {
      "text/plain": [
       "array(['Iris-setosa', 'Iris-versicolor', 'Iris-virginica'], dtype=object)"
      ]
     },
     "execution_count": 23,
     "metadata": {},
     "output_type": "execute_result"
    }
   ],
   "source": [
    "df2['class'].unique()"
   ]
  },
  {
   "cell_type": "code",
   "execution_count": 24,
   "metadata": {},
   "outputs": [],
   "source": [
    "# map the column class with numbers from 0 to 2\n",
    "df2['class'] = df2['class'].map({'Iris-setosa': 0, 'Iris-versicolor': 1, 'Iris-virginica': 2})"
   ]
  },
  {
   "cell_type": "code",
   "execution_count": 25,
   "metadata": {},
   "outputs": [
    {
     "name": "stdout",
     "output_type": "stream",
     "text": [
      "Number of mislabeled points out of a total 53 points : 2\n"
     ]
    }
   ],
   "source": [
    "y = df2['class']\n",
    "X = df2.drop(columns='class')\n",
    "# Splitear la data\n",
    "X_train, X_test, y_train, y_test = train_test_split(X, y, test_size=0.35, random_state=33)\n",
    "# Defino mi Gaussiana\n",
    "gnb = GaussianNB()\n",
    "# Predigo mis resultados\n",
    "y_pred = gnb.fit(X_train, y_train).predict(X_test)\n",
    "print(\"Number of mislabeled points out of a total %d points : %d\"\n",
    "      % (X_test.shape[0], (y_test != y_pred).sum()))"
   ]
  },
  {
   "cell_type": "code",
   "execution_count": 27,
   "metadata": {},
   "outputs": [
    {
     "data": {
      "image/png": "[encoded data removed]",
      "text/plain": [
       "<Figure size 1000x700 with 2 Axes>"
      ]
     },
     "metadata": {},
     "output_type": "display_data"
    },
    {
     "name": "stdout",
     "output_type": "stream",
     "text": [
      "Accuracy: 0.96\n"
     ]
    }
   ],
   "source": [
    "# Matriz de confusion y accuracy score\n",
    "cm2 = confusion_matrix(y_test, y_pred)\n",
    "plt.figure(figsize=(10,7))\n",
    "sns.heatmap(cm2, annot=True, fmt='d', cmap='Blues')\n",
    "plt.title('Confusion Matrix')\n",
    "plt.xlabel('Predicted')\n",
    "plt.ylabel('True')\n",
    "plt.show()\n",
    "\n",
    "accuracy = accuracy_score(y_test, y_pred)\n",
    "print(f'Accuracy: {accuracy:.2f}')"
   ]
  },
  {
   "cell_type": "code",
   "execution_count": 29,
   "metadata": {},
   "outputs": [
    {
     "data": {
      "text/plain": [
       "Text(0.5, 1.0, 'PCA of Iris Dataset')"
      ]
     },
     "execution_count": 29,
     "metadata": {},
     "output_type": "execute_result"
    },
    {
     "data": {
      "image/png": "[encoded data removed]",
      "text/plain": [
       "<Figure size 1000x700 with 1 Axes>"
      ]
     },
     "metadata": {},
     "output_type": "display_data"
    }
   ],
   "source": [
    "# Visualize the data with a plot with gaussians of gnb predicts and real data\n",
    "from sklearn.decomposition import PCA\n",
    "pca = PCA(n_components=2)\n",
    "X_pca = pca.fit_transform(X)\n",
    "plt.figure(figsize=(10, 7))\n",
    "plt.scatter(X_pca[:, 0], X_pca[:, 1], c=y, cmap='viridis', edgecolor='k', s=40)\n",
    "plt.title('PCA of Iris Dataset')\n"
   ]
  },
  {
   "cell_type": "code",
   "execution_count": null,
   "metadata": {},
   "outputs": [],
   "source": []
  },
  {
   "cell_type": "markdown",
   "metadata": {},
   "source": [
    "# Práctica"
   ]
  },
  {
   "cell_type": "markdown",
   "metadata": {},
   "source": [
    "## Ejercicio 4"
   ]
  },
  {
   "cell_type": "code",
   "execution_count": null,
   "metadata": {},
   "outputs": [],
   "source": [
    "import numpy as np\n",
    "from scipy.stats import norm\n",
    "\n",
    "# Datos\n",
    "prob_color = {\n",
    "    \"Manzana\": {\"Amarillo\": 0.8, \"Mezcla\": 0.0, \"Rojo\": 0.2},\n",
    "    \"Pera\": {\"Amarillo\": 0.1, \"Mezcla\": 0.6, \"Rojo\": 0.3},\n",
    "}\n",
    "\n",
    "# Parámetros de la distribución normal para Esfericidad\n",
    "params_esfericidad = {\n",
    "    \"Manzana\": {\"mu\": 0.5, \"sigma\": 0.3},\n",
    "    \"Pera\": {\"mu\": 0.8, \"sigma\": 0.2},\n",
    "}\n"
   ]
  },
  {
   "cell_type": "markdown",
   "metadata": {},
   "source": [
    "### Inciso a)"
   ]
  },
  {
   "cell_type": "code",
   "execution_count": null,
   "metadata": {},
   "outputs": [
    {
     "name": "stdout",
     "output_type": "stream",
     "text": [
      "Ejemplo 1:\n",
      "  P(Manzana) = 0.8927\n",
      "  P(Pera) = 0.1073\n",
      "  Predicción: Manzana\n",
      "\n",
      "Ejemplo 2:\n",
      "  P(Manzana) = 0.0000\n",
      "  P(Pera) = 1.0000\n",
      "  Predicción: Pera\n",
      "\n"
     ]
    }
   ],
   "source": [
    "# Probabilidades\n",
    "prob = {\"Manzana\": 0.5, \"Pera\": 0.5}\n",
    "\n",
    "# Función para calcular la probabilidad de la esfericidad\n",
    "def prob_esfericidad(x, mu, sigma):\n",
    "    return norm.pdf(x, loc=mu, scale=sigma)\n",
    "\n",
    "# Ejemplos a clasificar\n",
    "ejemplos = [\n",
    "    {\"Color\": \"Amarillo\", \"Esfericidad\": 0.6},\n",
    "    {\"Color\": \"Mezcla\", \"Esfericidad\": 0.8},\n",
    "]\n",
    "\n",
    "# Clasificación\n",
    "for i, ejemplo in enumerate(ejemplos):\n",
    "    color = ejemplo[\"Color\"]\n",
    "    esfericidad = ejemplo[\"Esfericidad\"]\n",
    "\n",
    "    # Calcular las probabilidades para cada clase\n",
    "    prob_manzana = (\n",
    "        prob_color[\"Manzana\"][color]\n",
    "        * prob_esfericidad(esfericidad, params_esfericidad[\"Manzana\"][\"mu\"], params_esfericidad[\"Manzana\"][\"sigma\"])\n",
    "        * prob[\"Manzana\"]\n",
    "    )\n",
    "    prob_pera = (\n",
    "        prob_color[\"Pera\"][color]\n",
    "        * prob_esfericidad(esfericidad, params_esfericidad[\"Pera\"][\"mu\"], params_esfericidad[\"Pera\"][\"sigma\"])\n",
    "        * prob[\"Pera\"]\n",
    "    )\n",
    "\n",
    "    # Normalizar las probabilidades (opcional para interpretación)\n",
    "    total_prob = prob_manzana + prob_pera\n",
    "    prob_manzana /= total_prob\n",
    "    prob_pera /= total_prob\n",
    "\n",
    "    # Predicción\n",
    "    prediccion = \"Manzana\" if prob_manzana > prob_pera else \"Pera\"\n",
    "\n",
    "    print(f\"Ejemplo {i + 1}:\")\n",
    "    print(f\"  P(Manzana) = {prob_manzana:.4f}\")\n",
    "    print(f\"  P(Pera) = {prob_pera:.4f}\")\n",
    "    print(f\"  Predicción: {prediccion}\")\n",
    "    print()"
   ]
  },
  {
   "cell_type": "markdown",
   "metadata": {},
   "source": [
    "### Inciso b)"
   ]
  },
  {
   "cell_type": "code",
   "execution_count": null,
   "metadata": {},
   "outputs": [
    {
     "name": "stdout",
     "output_type": "stream",
     "text": [
      "Ejemplo 1:\n",
      "  P(Manzana) = 0.0775\n",
      "  P(Pera) = 0.9225\n",
      "  Predicción: Pera\n",
      "\n",
      "Ejemplo 2:\n",
      "  P(Manzana) = 0.0000\n",
      "  P(Pera) = 1.0000\n",
      "  Predicción: Pera\n",
      "\n"
     ]
    }
   ],
   "source": [
    "# Probabilidades nuevas\n",
    "prob = {\"Manzana\": 0.01, \"Pera\": 0.99}\n",
    "\n",
    "# Función para calcular la probabilidad de la esfericidad\n",
    "def prob_esfericidad(x, mu, sigma):\n",
    "    return norm.pdf(x, loc=mu, scale=sigma)\n",
    "\n",
    "# Ejemplos a clasificar\n",
    "ejemplos = [\n",
    "    {\"Color\": \"Amarillo\", \"Esfericidad\": 0.6},\n",
    "    {\"Color\": \"Mezcla\", \"Esfericidad\": 0.8},\n",
    "]\n",
    "\n",
    "# Clasificación\n",
    "for i, ejemplo in enumerate(ejemplos):\n",
    "    color = ejemplo[\"Color\"]\n",
    "    esfericidad = ejemplo[\"Esfericidad\"]\n",
    "\n",
    "    # Calcular las probabilidades para cada clase\n",
    "    prob_manzana = (\n",
    "        prob_color[\"Manzana\"][color]\n",
    "        * prob_esfericidad(esfericidad, params_esfericidad[\"Manzana\"][\"mu\"], params_esfericidad[\"Manzana\"][\"sigma\"])\n",
    "        * prob[\"Manzana\"]\n",
    "    )\n",
    "    prob_pera = (\n",
    "        prob_color[\"Pera\"][color]\n",
    "        * prob_esfericidad(esfericidad, params_esfericidad[\"Pera\"][\"mu\"], params_esfericidad[\"Pera\"][\"sigma\"])\n",
    "        * prob[\"Pera\"]\n",
    "    )\n",
    "\n",
    "    # Normalizar las probabilidades (opcional para interpretación)\n",
    "    total_prob = prob_manzana + prob_pera\n",
    "    prob_manzana /= total_prob\n",
    "    prob_pera /= total_prob\n",
    "\n",
    "    # Predicción\n",
    "    prediccion = \"Manzana\" if prob_manzana > prob_pera else \"Pera\"\n",
    "\n",
    "    # Imprimir resultados\n",
    "    print(f\"Ejemplo {i + 1}:\")\n",
    "    print(f\"  P(Manzana) = {prob_manzana:.4f}\")\n",
    "    print(f\"  P(Pera) = {prob_pera:.4f}\")\n",
    "    print(f\"  Predicción: {prediccion}\")\n",
    "    print()"
   ]
  }
 ],
 "metadata": {
  "kernelspec": {
   "display_name": "Python 3",
   "language": "python",
   "name": "python3"
  },
  "language_info": {
   "codemirror_mode": {
    "name": "ipython",
    "version": 3
   },
   "file_extension": ".py",
   "mimetype": "text/x-python",
   "name": "python",
   "nbconvert_exporter": "python",
   "pygments_lexer": "ipython3",
   "version": "3.12.6"
  }
 },
 "nbformat": 4,
 "nbformat_minor": 2
}
